{
  "metadata": {
    "language_info": {
      "codemirror_mode": {
        "name": "python",
        "version": 3
      },
      "file_extension": ".py",
      "mimetype": "text/x-python",
      "name": "python",
      "nbconvert_exporter": "python",
      "pygments_lexer": "ipython3",
      "version": "3.8"
    },
    "kernelspec": {
      "name": "python",
      "display_name": "Python (Pyodide)",
      "language": "python"
    }
  },
  "nbformat_minor": 4,
  "nbformat": 4,
  "cells": [
    {
      "cell_type": "markdown",
      "source": "Que 1. What exactly is []?\n\nAns- The square brackets [] are used to define and access elements in a list.",
      "metadata": {}
    },
    {
      "cell_type": "markdown",
      "source": "Que 2. In a list of values stored in a variable called spam, how would you assign the value 'hello' as the third value? (Assume [2, 4, 6, 8, 10] are in spam.)\n\nAns-  we can use indexing with the square brackets and assign the new value to the desired index. ",
      "metadata": {}
    },
    {
      "cell_type": "code",
      "source": "spam = [2, 4, 6, 8, 10]\nspam[2] = 'hello'\nprint(spam)",
      "metadata": {
        "trusted": true
      },
      "execution_count": 9,
      "outputs": [
        {
          "name": "stdout",
          "text": "[2, 4, 'hello', 8, 10]\n",
          "output_type": "stream"
        }
      ]
    },
    {
      "cell_type": "markdown",
      "source": "Let's pretend the spam includes the list ['a', 'b', 'c', 'd'] for the next three queries.\n\nQue 3. What is the value of spam[int(int('3' * 2) / 11)]?\n",
      "metadata": {}
    },
    {
      "cell_type": "markdown",
      "source": "my_list = [2, 3, 4, 5,6]",
      "metadata": {}
    },
    {
      "cell_type": "code",
      "source": "spam = ['a', 'b', 'c', 'd']\n\nspam[int(int('3' * 2) / 11)]",
      "metadata": {
        "trusted": true
      },
      "execution_count": 10,
      "outputs": [
        {
          "execution_count": 10,
          "output_type": "execute_result",
          "data": {
            "text/plain": "'d'"
          },
          "metadata": {}
        }
      ]
    },
    {
      "cell_type": "markdown",
      "source": "Que 4. What is the value of spam[-1]?",
      "metadata": {}
    },
    {
      "cell_type": "code",
      "source": "spam[-1]",
      "metadata": {
        "trusted": true
      },
      "execution_count": 11,
      "outputs": [
        {
          "execution_count": 11,
          "output_type": "execute_result",
          "data": {
            "text/plain": "'d'"
          },
          "metadata": {}
        }
      ]
    },
    {
      "cell_type": "markdown",
      "source": "Que 5. What is the value of spam[:2]?",
      "metadata": {}
    },
    {
      "cell_type": "code",
      "source": "spam[:2]",
      "metadata": {
        "trusted": true
      },
      "execution_count": 12,
      "outputs": [
        {
          "execution_count": 12,
          "output_type": "execute_result",
          "data": {
            "text/plain": "['a', 'b']"
          },
          "metadata": {}
        }
      ]
    },
    {
      "cell_type": "markdown",
      "source": " Let's pretend bacon has the list [3.14, 'cat,' 11, 'cat,' True] for the next three questions.\n\nQue 6. What is the value of bacon.index('cat')?\n",
      "metadata": {}
    },
    {
      "cell_type": "code",
      "source": "bacon = [3.14, 'cat', 11, 'cat', True]",
      "metadata": {
        "trusted": true
      },
      "execution_count": 16,
      "outputs": []
    },
    {
      "cell_type": "code",
      "source": "bacon.index('cat')",
      "metadata": {
        "trusted": true
      },
      "execution_count": 17,
      "outputs": [
        {
          "execution_count": 17,
          "output_type": "execute_result",
          "data": {
            "text/plain": "1"
          },
          "metadata": {}
        }
      ]
    },
    {
      "cell_type": "markdown",
      "source": "Que 7. How does bacon.append(99) change the look of the list value in bacon?",
      "metadata": {}
    },
    {
      "cell_type": "code",
      "source": "bacon.append(99)",
      "metadata": {
        "trusted": true
      },
      "execution_count": 18,
      "outputs": []
    },
    {
      "cell_type": "code",
      "source": "print(bacon)",
      "metadata": {
        "trusted": true
      },
      "execution_count": 19,
      "outputs": [
        {
          "name": "stdout",
          "text": "[3.14, 'cat', 11, 'cat', True, 99]\n",
          "output_type": "stream"
        }
      ]
    },
    {
      "cell_type": "markdown",
      "source": "Que 8. How does bacon.remove('cat') change the look of the list in bacon?",
      "metadata": {}
    },
    {
      "cell_type": "code",
      "source": "bacon.remove('cat')",
      "metadata": {
        "trusted": true
      },
      "execution_count": 20,
      "outputs": []
    },
    {
      "cell_type": "code",
      "source": "print(bacon)",
      "metadata": {
        "trusted": true
      },
      "execution_count": 21,
      "outputs": [
        {
          "name": "stdout",
          "text": "[3.14, 11, 'cat', True, 99]\n",
          "output_type": "stream"
        }
      ]
    },
    {
      "cell_type": "markdown",
      "source": "Que 9. What are the list concatenation and list replication operators?",
      "metadata": {}
    },
    {
      "cell_type": "markdown",
      "source": "Ans - List concadination means adding them while replication is used to multiply the list with specific number",
      "metadata": {}
    },
    {
      "cell_type": "code",
      "source": "# concadinate\na = [1,3,5]\nb = [9,8,7]\nc = a + b\nprint(c)",
      "metadata": {
        "trusted": true
      },
      "execution_count": 22,
      "outputs": [
        {
          "name": "stdout",
          "text": "[1, 3, 5, 9, 8, 7]\n",
          "output_type": "stream"
        }
      ]
    },
    {
      "cell_type": "code",
      "source": "# replicate\n\ntest = [1,2.3]\ntest1= test *4\nprint(test1)",
      "metadata": {
        "trusted": true
      },
      "execution_count": 23,
      "outputs": [
        {
          "name": "stdout",
          "text": "[1, 2.3, 1, 2.3, 1, 2.3, 1, 2.3]\n",
          "output_type": "stream"
        }
      ]
    },
    {
      "cell_type": "markdown",
      "source": "Que 10. What is difference between the list methods append() and insert()?",
      "metadata": {}
    },
    {
      "cell_type": "markdown",
      "source": "Ans - Append  is used to add an element to the end of a list.It takes a single argument, which is the element to be added, and appends it to the end of the list\n\nInsert is used to add an element at a specific index position in a list. It takes two arguments: the index at which to insert the element, and the element itself.",
      "metadata": {}
    },
    {
      "cell_type": "code",
      "source": "a = [1, 2, 3]\na.append(4)\nprint(a)\n",
      "metadata": {
        "trusted": true
      },
      "execution_count": 24,
      "outputs": [
        {
          "name": "stdout",
          "text": "[1, 2, 3, 4]\n",
          "output_type": "stream"
        }
      ]
    },
    {
      "cell_type": "code",
      "source": "b = [1, 2, 3]\nb.insert(1, 4)\nprint(b)\n",
      "metadata": {
        "trusted": true
      },
      "execution_count": 25,
      "outputs": [
        {
          "name": "stdout",
          "text": "[1, 4, 2, 3]\n",
          "output_type": "stream"
        }
      ]
    },
    {
      "cell_type": "markdown",
      "source": "Que 11. What are the two methods for removing items from a list?",
      "metadata": {}
    },
    {
      "cell_type": "markdown",
      "source": "Ans- remove an del method used.",
      "metadata": {}
    },
    {
      "cell_type": "code",
      "source": "a = [1, 2, 3, 4, 5]\na.remove(3)\nprint(a)\n",
      "metadata": {
        "trusted": true
      },
      "execution_count": 27,
      "outputs": [
        {
          "name": "stdout",
          "text": "[1, 2, 4, 5]\n",
          "output_type": "stream"
        }
      ]
    },
    {
      "cell_type": "code",
      "source": "b = [1, 2, 3, 4, 5]\ndel b[2]\nprint(b)\n",
      "metadata": {
        "trusted": true
      },
      "execution_count": 28,
      "outputs": [
        {
          "name": "stdout",
          "text": "[1, 2, 4, 5]\n",
          "output_type": "stream"
        }
      ]
    },
    {
      "cell_type": "markdown",
      "source": "Que 12. Describe how list values and string values are identical.",
      "metadata": {}
    },
    {
      "cell_type": "markdown",
      "source": "Ans- Both strings and lists have lengths: \n\nA string's length is the number of characters in the string;\n\nA list's length is the number of items in the list. Each character in a string as well as each item in a list has a position, also called an index.",
      "metadata": {}
    },
    {
      "cell_type": "markdown",
      "source": "Que 13. What's the difference between tuples and lists?",
      "metadata": {}
    },
    {
      "cell_type": "markdown",
      "source": "Ans- The primary difference between tuples and lists is that tuples are immutable while lists which are mutable. so it is possible to change a list but not a tuple.\n\nThe contents of a tuple cannot change once they have been created in Python due to the immutability of tuples.",
      "metadata": {}
    },
    {
      "cell_type": "markdown",
      "source": "Que 14. How do you type a tuple value that only contains the integer 42?",
      "metadata": {}
    },
    {
      "cell_type": "markdown",
      "source": "To create a tuple value that only contains the integer 42, we can use parentheses () and include the single element inside, followed by a comma. Here's how you can type a tuple with the integer 42",
      "metadata": {}
    },
    {
      "cell_type": "code",
      "source": "a_tuple = (42,)",
      "metadata": {
        "trusted": true
      },
      "execution_count": 29,
      "outputs": []
    },
    {
      "cell_type": "markdown",
      "source": "Que 15. How do you get a list value's tuple form?",
      "metadata": {}
    },
    {
      "cell_type": "code",
      "source": "a = (1,2,3,5)\ntype(a)\n\n",
      "metadata": {
        "trusted": true
      },
      "execution_count": 35,
      "outputs": [
        {
          "execution_count": 35,
          "output_type": "execute_result",
          "data": {
            "text/plain": "tuple"
          },
          "metadata": {}
        }
      ]
    },
    {
      "cell_type": "code",
      "source": "b = list(a)\ntype(b)",
      "metadata": {},
      "execution_count": null,
      "outputs": []
    },
    {
      "cell_type": "markdown",
      "source": "Que 16. Variables that \"contain\" list values are not necessarily lists themselves. Instead, what do they contain?",
      "metadata": {}
    },
    {
      "cell_type": "markdown",
      "source": "Ans - They are tuples",
      "metadata": {}
    },
    {
      "cell_type": "markdown",
      "source": "Que 17. How do you distinguish between copy.copy() and copy.deepcopy()?",
      "metadata": {}
    },
    {
      "cell_type": "code",
      "source": "import copy\n\n# Original list with nested objects\noriginal_list = [1, [2, 3], 4]\n\n# Shallow copy using copy.copy()\nshallow_copy = copy.copy(original_list)\n\n# Deep copy using copy.deepcopy()\ndeep_copy = copy.deepcopy(original_list)\n\n# Modify the nested list in the original object\noriginal_list[1].append(5)\n\nprint(original_list)  \nprint(shallow_copy)  \nprint(deep_copy)     \n",
      "metadata": {
        "trusted": true
      },
      "execution_count": 40,
      "outputs": [
        {
          "name": "stdout",
          "text": "[1, [2, 3, 5], 4]\n[1, [2, 3, 5], 4]\n[1, [2, 3], 4]\n",
          "output_type": "stream"
        }
      ]
    },
    {
      "cell_type": "code",
      "source": "",
      "metadata": {},
      "execution_count": null,
      "outputs": []
    }
  ]
}