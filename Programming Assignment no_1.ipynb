{
 "cells": [
  {
   "attachments": {},
   "cell_type": "markdown",
   "metadata": {},
   "source": [
    "1. Write a Python program to print \"Hello Python\"?\n",
    "2. Write a Python program to do arithmetical operations addition and division.?\n",
    "3. Write a Python program to find the area of a triangle?\n",
    "4. Write a Python program to swap two variables?\n",
    "5. Write a Python program to generate a random number?"
   ]
  },
  {
   "cell_type": "code",
   "execution_count": 2,
   "metadata": {},
   "outputs": [
    {
     "name": "stdout",
     "output_type": "stream",
     "text": [
      "Hello World\n"
     ]
    }
   ],
   "source": [
    "#Ans 1\n",
    "\n",
    "print(\"Hello World\")"
   ]
  },
  {
   "cell_type": "code",
   "execution_count": 9,
   "metadata": {},
   "outputs": [
    {
     "name": "stdout",
     "output_type": "stream",
     "text": [
      "Result of 18 and 2 = 20\n",
      "Result of 18 and 2 = 9.0\n"
     ]
    }
   ],
   "source": [
    "#Ans 2;\n",
    "\n",
    "num1 = int(input())\n",
    "num2 = int(input())\n",
    "\n",
    "addition = num1 + num2\n",
    "print(f\"Result of {num1} and {num2} = {addition}\")\n",
    "\n",
    "division = num1/num2\n",
    "print(f\"Result of {num1} and {num2} = {division}\")"
   ]
  },
  {
   "cell_type": "code",
   "execution_count": 11,
   "metadata": {},
   "outputs": [
    {
     "name": "stdout",
     "output_type": "stream",
     "text": [
      "The area of Triangle 7.5\n"
     ]
    }
   ],
   "source": [
    "#Ans 3: Area of Triangle = .05*BASE*HEIGHT\n",
    "\n",
    "base = float(input(\"Base of Triangle: \"))\n",
    "height = float(input(\"Height of Triangle is : \"))\n",
    "\n",
    "area_of_triangle = 0.5*base*height\n",
    "\n",
    "print(\"The area of Triangle\" , area_of_triangle)"
   ]
  },
  {
   "cell_type": "code",
   "execution_count": 14,
   "metadata": {},
   "outputs": [
    {
     "name": "stdout",
     "output_type": "stream",
     "text": [
      "Before swapping:\n",
      "variable 1 10\n",
      "variable 2 6\n",
      "After swapping:\n",
      "variable 1 6\n",
      "variable 2 10\n"
     ]
    }
   ],
   "source": [
    "#Ans 4: Swap two Variable\n",
    "\n",
    "variable1 = input(\"Enter the value of variable1: \")\n",
    "variable2 = input(\"Enter the value of variable2: \")\n",
    "\n",
    "#before Swap\n",
    "print(\"Before swapping:\")\n",
    "print(\"variable 1\", variable1)\n",
    "print(\"variable 2\", variable2)\n",
    "\n",
    "#after Swap\n",
    "temp = variable1\n",
    "variable1 = variable2\n",
    "variable2 = temp\n",
    "\n",
    "print(\"After swapping:\")\n",
    "print(\"variable 1\", variable1)\n",
    "print(\"variable 2\", variable2)"
   ]
  },
  {
   "cell_type": "code",
   "execution_count": 15,
   "metadata": {},
   "outputs": [
    {
     "name": "stdout",
     "output_type": "stream",
     "text": [
      "Random number: 6\n"
     ]
    }
   ],
   "source": [
    "#Ans 5: print any random numbers\n",
    "\n",
    "import random\n",
    "\n",
    "# Generate any random number between 1 and 989\n",
    "random_number = random.randint(1, 989)\n",
    "\n",
    "# Print the random number\n",
    "print(\"Random number:\", random_number)\n"
   ]
  }
 ],
 "metadata": {
  "kernelspec": {
   "display_name": "base",
   "language": "python",
   "name": "python3"
  },
  "language_info": {
   "codemirror_mode": {
    "name": "ipython",
    "version": 3
   },
   "file_extension": ".py",
   "mimetype": "text/x-python",
   "name": "python",
   "nbconvert_exporter": "python",
   "pygments_lexer": "ipython3",
   "version": "3.9.12"
  },
  "orig_nbformat": 4
 },
 "nbformat": 4,
 "nbformat_minor": 2
}
