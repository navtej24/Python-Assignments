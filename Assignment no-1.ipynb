{
 "cells": [
  {
   "attachments": {},
   "cell_type": "markdown",
   "metadata": {},
   "source": [
    "'''\n",
    "# Assignment No - 1\n",
    "1. In the below elements which of them are values or an expression? eg:- values can be integer or string and expressions will be mathematical operators.\n",
    "- '*' \n",
    "- 'hello' \n",
    "- -87.8 \n",
    "- ' - '\n",
    "- ' / '\n",
    "- ' + '\t\n",
    "- 6 \n",
    "\n",
    "2. What is the difference between string and variable?\n",
    "\n",
    "3. Describe three different data types.\n",
    "\n",
    "4. What is an expression made up of? What do all expressions do?\n",
    "5. This assignment statements, like spam = 10. What is the difference between an expression and a statement?\n",
    "6. After running the following code, what does the variable bacon contain?\n",
    "bacon = 22\n",
    "bacon + 1\n",
    "\n",
    "7. What should the values of the following two terms be?\n",
    "'spam' + 'spamspam'\n",
    "'spam' * 3\n",
    "\n",
    "8. Why is eggs a valid variable name while 100 is invalid?\n",
    "9. What three functions can be used to get the integer, floating-point number, or string version of a value?\n",
    "10. Why does this expression cause an error? How can you fix it?\n",
    "'I have eaten ' + 99 + ' burritos.'\n",
    "'''"
   ]
  },
  {
   "cell_type": "markdown",
   "metadata": {},
   "source": [
    "Answer no - 1\n",
    "- '*' = Expression\n",
    "- 'hello' = value \n",
    "- -87.8 = Value\n",
    "- ' - ' = Expression\n",
    "- ' / ' = Expression\n",
    "- ' + '\t= Expression\n",
    "- 6 = Value"
   ]
  },
  {
   "attachments": {},
   "cell_type": "markdown",
   "metadata": {},
   "source": [
    "Answer no - 2\n",
    "\n",
    "Difference between variables and strings is:\n",
    "- Variables are the symbols that you can use to store data in a program.\n",
    "- Strings are data, which is used to fill up a variable."
   ]
  },
  {
   "attachments": {},
   "cell_type": "markdown",
   "metadata": {},
   "source": [
    "Answer no - 3\n",
    "\n",
    "Three data types are - string, integer, boolean, Float etc."
   ]
  },
  {
   "attachments": {},
   "cell_type": "markdown",
   "metadata": {},
   "source": [
    "Answer no -4\n",
    "\n",
    "Expression is a combination of values, variables, and operators that represents a single result value. Expressions can be as simple as a single number or variable, or they can be more complex combinations of multiple values, variables, and operators. \n",
    "eg - 2 + 3: This is a simple expression that adds the values 2 and 3 together, resulting in the value 5."
   ]
  },
  {
   "attachments": {},
   "cell_type": "markdown",
   "metadata": {},
   "source": [
    "Answer - 5\n",
    "\n",
    "Expression is a piece of code that returns a value and statement is a piece of code that performs an action.\n",
    "\n",
    "spam = 10 # statment"
   ]
  },
  {
   "cell_type": "code",
   "execution_count": 4,
   "metadata": {},
   "outputs": [
    {
     "data": {
      "text/plain": [
       "23"
      ]
     },
     "execution_count": 4,
     "metadata": {},
     "output_type": "execute_result"
    }
   ],
   "source": [
    "#  Answer no -6 \n",
    "\n",
    "# After running the following code, what does the variable bacon contain?\n",
    "bacon = 22\n",
    "bacon + 1"
   ]
  },
  {
   "cell_type": "code",
   "execution_count": 6,
   "metadata": {},
   "outputs": [
    {
     "data": {
      "text/plain": [
       "'spamspamspam'"
      ]
     },
     "execution_count": 6,
     "metadata": {},
     "output_type": "execute_result"
    }
   ],
   "source": [
    "# Answer no - 7\n",
    "\n",
    "# What should the values of the following two terms be?\n",
    "'spam' + 'spamspam'\n",
    "'spam' * 3"
   ]
  },
  {
   "attachments": {},
   "cell_type": "markdown",
   "metadata": {},
   "source": [
    "Answer no - 8\n",
    "\n",
    "Eggs a valid variable name while 100 is invalid because variable names cannot begin with a number."
   ]
  },
  {
   "attachments": {},
   "cell_type": "markdown",
   "metadata": {},
   "source": [
    "Answer no - 9\n",
    "\n",
    "The int() , float() , and str( ) functions will evaluate to the integer, floating-point number, and string versions of the value passed to them."
   ]
  },
  {
   "attachments": {},
   "cell_type": "markdown",
   "metadata": {},
   "source": [
    "Answer no - 10\n",
    "\n",
    "Why does this expression cause an error? How can you fix it?\n",
    " 'I have eaten ' + 99 + ' burritos.'\n",
    "\n",
    " The expression causes an error because 99 is an integer, and only strings can be concatenated to other strings with the + operator.  The correct way is I have eaten ' + '99' + 'burritos'"
   ]
  },
  {
   "cell_type": "code",
   "execution_count": 12,
   "metadata": {},
   "outputs": [
    {
     "data": {
      "text/plain": [
       "'I have eaten 99 burritos'"
      ]
     },
     "execution_count": 12,
     "metadata": {},
     "output_type": "execute_result"
    }
   ],
   "source": [
    "'I have eaten ' + '99' + ' burritos'"
   ]
  }
 ],
 "metadata": {
  "kernelspec": {
   "display_name": "base",
   "language": "python",
   "name": "python3"
  },
  "language_info": {
   "codemirror_mode": {
    "name": "ipython",
    "version": 3
   },
   "file_extension": ".py",
   "mimetype": "text/x-python",
   "name": "python",
   "nbconvert_exporter": "python",
   "pygments_lexer": "ipython3",
   "version": "3.9.12"
  },
  "orig_nbformat": 4,
  "vscode": {
   "interpreter": {
    "hash": "ae684d3507d1a9fd13607d277c0552c263fac8e2d017579478e0715850ea99e7"
   }
  }
 },
 "nbformat": 4,
 "nbformat_minor": 2
}
