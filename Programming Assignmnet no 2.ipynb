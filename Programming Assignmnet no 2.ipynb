{
 "cells": [
  {
   "attachments": {},
   "cell_type": "markdown",
   "metadata": {},
   "source": [
    "1. Write a Python program to convert kilometers to miles?\n",
    "2. Write a Python program to convert Celsius to Fahrenheit?\n",
    "3. Write a Python program to display calendar?\n",
    "4. Write a Python program to solve quadratic equation?\n",
    "5. Write a Python program to swap two variables without temp variable?"
   ]
  },
  {
   "cell_type": "code",
   "execution_count": 3,
   "metadata": {},
   "outputs": [
    {
     "name": "stdout",
     "output_type": "stream",
     "text": [
      " Entered Kilometer is 20.0 and Which is equal to 12.42742 miles\n"
     ]
    }
   ],
   "source": [
    "#Ans: 1. Write a Python program to convert kilometers to miles?\n",
    "\n",
    "def km_to_miles(km):\n",
    "    miles = km * 0.621371\n",
    "    return miles\n",
    "\n",
    "kilometer = float(input(\"Enter Kilometer: \"))\n",
    "miles = km_to_miles(kilometer)\n",
    "\n",
    "print(f\" Entered Kilometer is {kilometer} and Which is equal to {miles} miles\")"
   ]
  },
  {
   "cell_type": "code",
   "execution_count": 4,
   "metadata": {},
   "outputs": [
    {
     "name": "stdout",
     "output_type": "stream",
     "text": [
      "The entered temperature in Celsius is: 36.0\n",
      " The tempeature in Fahrenheit is: 96.8\n"
     ]
    }
   ],
   "source": [
    "#Ans: 2. Write a Python program to convert Celsius to Fahrenheit?\n",
    "# FORMULA = (0°C × 9/5) + 32 = 32°F\n",
    "\n",
    "def Celsius_to_Fahrenheit(Celsius):\n",
    "    fahrenheit = (Celsius * 9/5) + 32 \n",
    "    return fahrenheit\n",
    "\n",
    "celcius_input = float(input(\"Enter the tempeature in Celsius\"))\n",
    "print(f\"The entered temperature in Celsius is: {celcius_input}\")\n",
    "\n",
    "conveterd_to_fahrenheit = Celsius_to_Fahrenheit(celcius_input)\n",
    "\n",
    "print(f\" The tempeature in Fahrenheit is: {conveterd_to_fahrenheit}\")"
   ]
  },
  {
   "cell_type": "code",
   "execution_count": 5,
   "metadata": {},
   "outputs": [
    {
     "name": "stdout",
     "output_type": "stream",
     "text": [
      "     June 2023\n",
      "Mo Tu We Th Fr Sa Su\n",
      "          1  2  3  4\n",
      " 5  6  7  8  9 10 11\n",
      "12 13 14 15 16 17 18\n",
      "19 20 21 22 23 24 25\n",
      "26 27 28 29 30\n",
      "\n"
     ]
    }
   ],
   "source": [
    "#Ans 3:\n",
    "\n",
    "import calendar\n",
    "\n",
    "# Prompt the user for the year and month\n",
    "year = int(input(\"Enter the year: \"))\n",
    "month = int(input(\"Enter the month: \"))\n",
    "\n",
    "# Display the calendar\n",
    "print(calendar.month(year, month))"
   ]
  },
  {
   "cell_type": "code",
   "execution_count": 7,
   "metadata": {},
   "outputs": [
    {
     "name": "stdout",
     "output_type": "stream",
     "text": [
      "before swap variables\n",
      "a = 7\n",
      "b = 8\n",
      "after swap variables\n",
      "a = 8\n",
      "b = 7\n"
     ]
    }
   ],
   "source": [
    "#Ans 5:\n",
    "\n",
    "def swap_variables(a,b):\n",
    "    print(\"before swap variables\")\n",
    "    print(\"a =\",a)\n",
    "    print(\"b =\",b)\n",
    "\n",
    "    #swap the values\n",
    "    a,b = b,a\n",
    "\n",
    "    print(\"after swap variables\")\n",
    "    print(\"a =\",a)\n",
    "    print(\"b =\",b)\n",
    "\n",
    "val1= 7\n",
    "val2 = 8\n",
    "\n",
    "swap_variables(val1,val2)"
   ]
  }
 ],
 "metadata": {
  "kernelspec": {
   "display_name": "base",
   "language": "python",
   "name": "python3"
  },
  "language_info": {
   "codemirror_mode": {
    "name": "ipython",
    "version": 3
   },
   "file_extension": ".py",
   "mimetype": "text/x-python",
   "name": "python",
   "nbconvert_exporter": "python",
   "pygments_lexer": "ipython3",
   "version": "3.9.12"
  },
  "orig_nbformat": 4
 },
 "nbformat": 4,
 "nbformat_minor": 2
}
